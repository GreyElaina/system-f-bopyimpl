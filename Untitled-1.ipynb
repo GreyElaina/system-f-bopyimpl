{
 "cells": [
  {
   "cell_type": "code",
   "execution_count": 7,
   "metadata": {},
   "outputs": [
    {
     "name": "stdout",
     "output_type": "stream",
     "text": [
      "∀X<:any.∀S<:#X.∀Z<:#X.(X -> #S) -> Z -> #Z\n"
     ]
    }
   ],
   "source": [
    "from typeof import *\n",
    "\n",
    "# zero = FForAll(\"X\", FTop, FForAll(\"S\"))\n",
    "a = FTCond(FTApp(FTAbs(\"X\", FNat, FTBool(True)), FTNat(123)), FTNat(4), FTBool(False))\n",
    "zero = FTTypeAbs(\n",
    "    \"X\",\n",
    "    FTop,\n",
    "    FTTypeAbs(\n",
    "        \"S\",\n",
    "        FVar(\"X\", True),\n",
    "        FTTypeAbs(\n",
    "            \"Z\",\n",
    "            FVar(\"X\", True),\n",
    "            FTAbs(\n",
    "                \"x\",\n",
    "                FArrow(FVar(\"X\", True), FVar(\"S\", True)),\n",
    "                FTAbs(\"z\", FVar(\"Z\", True), FTVar(\"z\")),\n",
    "            ),\n",
    "        ),\n",
    "    ),\n",
    ")\n",
    "ctx = []\n",
    "print(type_of(ctx, zero))\n"
   ]
  }
 ],
 "metadata": {
  "kernelspec": {
   "display_name": "Python 3.10.7 64-bit",
   "language": "python",
   "name": "python3"
  },
  "language_info": {
   "codemirror_mode": {
    "name": "ipython",
    "version": 3
   },
   "file_extension": ".py",
   "mimetype": "text/x-python",
   "name": "python",
   "nbconvert_exporter": "python",
   "pygments_lexer": "ipython3",
   "version": "3.10.7"
  },
  "orig_nbformat": 4,
  "vscode": {
   "interpreter": {
    "hash": "eb4a0ac80907d7f44e1a5e88d3d3381b33e3dbedd3a24d113e876f30a0c46bee"
   }
  }
 },
 "nbformat": 4,
 "nbformat_minor": 2
}
